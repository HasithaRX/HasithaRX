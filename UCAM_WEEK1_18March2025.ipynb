{
  "nbformat": 4,
  "nbformat_minor": 0,
  "metadata": {
    "colab": {
      "provenance": [],
      "authorship_tag": "ABX9TyPpjT4u886gVYmarqDW8eVi",
      "include_colab_link": true
    },
    "kernelspec": {
      "name": "python3",
      "display_name": "Python 3"
    },
    "language_info": {
      "name": "python"
    }
  },
  "cells": [
    {
      "cell_type": "markdown",
      "metadata": {
        "id": "view-in-github",
        "colab_type": "text"
      },
      "source": [
        "<a href=\"https://colab.research.google.com/github/HasithaRX/HasithaRX/blob/main/UCAM_WEEK1_18March2025.ipynb\" target=\"_parent\"><img src=\"https://colab.research.google.com/assets/colab-badge.svg\" alt=\"Open In Colab\"/></a>"
      ]
    },
    {
      "cell_type": "markdown",
      "source": [
        "# WEEK 1"
      ],
      "metadata": {
        "id": "Y-g_XhjIRDGs"
      }
    },
    {
      "cell_type": "markdown",
      "source": [],
      "metadata": {
        "id": "zGxIJS48s6iO"
      }
    },
    {
      "cell_type": "code",
      "execution_count": null,
      "metadata": {
        "id": "LqjSCt-RExwh",
        "colab": {
          "base_uri": "https://localhost:8080/"
        },
        "outputId": "e6591396-d2ad-4688-c1bc-bf3a6b5668e9"
      },
      "outputs": [
        {
          "output_type": "execute_result",
          "data": {
            "text/plain": [
              "(20+5j)"
            ]
          },
          "metadata": {},
          "execution_count": 2
        }
      ],
      "source": [
        "20+5j\n"
      ]
    },
    {
      "cell_type": "code",
      "source": [],
      "metadata": {
        "id": "JjIi9OSnThu8"
      },
      "execution_count": null,
      "outputs": []
    },
    {
      "cell_type": "code",
      "source": [
        "print (\"I am eager to learn python\")\n",
        "print('I am happy to learn')\n"
      ],
      "metadata": {
        "colab": {
          "base_uri": "https://localhost:8080/"
        },
        "id": "DbrFDojpRFcu",
        "outputId": "4eddbc8d-9443-498e-db7d-e391e0034835"
      },
      "execution_count": null,
      "outputs": [
        {
          "output_type": "stream",
          "name": "stdout",
          "text": [
            "I am eager to learn python\n",
            "I am happy to learn\n"
          ]
        }
      ]
    },
    {
      "cell_type": "code",
      "source": [
        "a = \"\"\"This is my\n",
        "first paragraph\"\"\"\n",
        "print(a)"
      ],
      "metadata": {
        "colab": {
          "base_uri": "https://localhost:8080/"
        },
        "id": "k6GSy2a9RPHc",
        "outputId": "f2810589-bdaa-42c4-9a22-4d198cff7e7a"
      },
      "execution_count": null,
      "outputs": [
        {
          "output_type": "stream",
          "name": "stdout",
          "text": [
            "This is my\n",
            "first paragraph\n"
          ]
        }
      ]
    },
    {
      "cell_type": "code",
      "source": [
        "print(\"Its great \")    # comment sections can be using hash symbols\n",
        "print(\"\")"
      ],
      "metadata": {
        "colab": {
          "base_uri": "https://localhost:8080/"
        },
        "id": "QBnRstwMRW_l",
        "outputId": "287e5024-ccf8-42ba-ea52-fed54382878d"
      },
      "execution_count": null,
      "outputs": [
        {
          "output_type": "stream",
          "name": "stdout",
          "text": [
            "Its great \n",
            "\n"
          ]
        }
      ]
    },
    {
      "cell_type": "code",
      "source": [
        "print(\"Its 'great '\")    # add anothor comma to\n"
      ],
      "metadata": {
        "colab": {
          "base_uri": "https://localhost:8080/"
        },
        "id": "_TPzzlnnRtT_",
        "outputId": "e29e691b-1a45-4195-88fc-0b2744e7491d"
      },
      "execution_count": null,
      "outputs": [
        {
          "output_type": "stream",
          "name": "stdout",
          "text": [
            "Its 'great '\n"
          ]
        }
      ]
    },
    {
      "cell_type": "markdown",
      "source": [
        "## Arrays"
      ],
      "metadata": {
        "id": "QBWY_rNbTV2u"
      }
    },
    {
      "cell_type": "code",
      "source": [
        "a = \"Life is a beautiful\" #string as an array\n",
        "print(a[1])\n",
        "print(a[0:5])\n",
        "print(a[1:])\n",
        "print(a[:8])\n"
      ],
      "metadata": {
        "colab": {
          "base_uri": "https://localhost:8080/"
        },
        "id": "pEhzBlIsSR3e",
        "outputId": "458f8277-4226-4ca7-9fe4-725d3cc4fbab"
      },
      "execution_count": null,
      "outputs": [
        {
          "output_type": "stream",
          "name": "stdout",
          "text": [
            "i\n",
            "Life \n",
            "ife is a beautiful\n",
            "Life is \n"
          ]
        }
      ]
    },
    {
      "cell_type": "markdown",
      "source": [
        "**LEN**"
      ],
      "metadata": {
        "id": "FUwtpZJoUGgp"
      }
    },
    {
      "cell_type": "code",
      "source": [
        "a = \"Life is a beautiful\"\n",
        "b= \"so is python\"\n",
        "print(len(a))              # to count how many characters(including spaces) in the above \"a\" string\n",
        "print('Life' in a)         # if we wan to find a keyword in a string we can use in functions.\n",
        "print(a.upper())           #if we want to write the values in UPPER case we can use .upper\n",
        "print(a.replace(\"L\",\"W\"))  # if we want to replace a someting in the strin we can use this, but this is not goint to change the original value, but only in print\n",
        "print(a.split())           #so the sentences will be splited into individual words, so it will split into separate as a strings but not saved in the memory.it is only view.\n",
        "\n",
        "\n",
        "#Concatenations\n",
        "print(a,b)\n",
        "print(a+b)\n",
        "print(a+\" \"+b)"
      ],
      "metadata": {
        "colab": {
          "base_uri": "https://localhost:8080/"
        },
        "id": "MD6o5734SdKI",
        "outputId": "4a2d783d-c015-4139-81f4-7bd1b53f138f"
      },
      "execution_count": null,
      "outputs": [
        {
          "output_type": "stream",
          "name": "stdout",
          "text": [
            "19\n",
            "True\n",
            "LIFE IS A BEAUTIFUL\n",
            "Wife is a beautiful\n",
            "['Life', 'is', 'a', 'beautiful']\n",
            "Life is a beautiful so is python\n",
            "Life is a beautifulso is python\n",
            "Life is a beautiful so is python\n"
          ]
        }
      ]
    },
    {
      "cell_type": "markdown",
      "source": [],
      "metadata": {
        "id": "2IiEPdyHUKd0"
      }
    },
    {
      "cell_type": "code",
      "source": [
        "a = \"11am\"\n",
        "b = \"Lecture starts at\" +a\n",
        "c = f'Lecture starts at {a}'  # f stands for formatting (Place Holder)\n",
        "d = f'Total amount is {57+5}'\n",
        "print(b)\n",
        "print(c)\n",
        "print(d)"
      ],
      "metadata": {
        "colab": {
          "base_uri": "https://localhost:8080/"
        },
        "id": "yh-gBBZ4T0BH",
        "outputId": "72676744-8e84-4d79-b542-47a7b3620e9c"
      },
      "execution_count": null,
      "outputs": [
        {
          "output_type": "stream",
          "name": "stdout",
          "text": [
            "Lecture starts at11am\n",
            "Lecture starts at 11am\n",
            "Total amount is 62\n"
          ]
        }
      ]
    },
    {
      "cell_type": "markdown",
      "source": [
        "# WEEK 2"
      ],
      "metadata": {
        "id": "t_mPeVrbTkQS"
      }
    },
    {
      "cell_type": "markdown",
      "source": [
        "1. Variable Names"
      ],
      "metadata": {
        "id": "Knfom1iPc1DQ"
      }
    },
    {
      "cell_type": "code",
      "source": [],
      "metadata": {
        "id": "5gAVYiY2ZSJJ"
      },
      "execution_count": null,
      "outputs": []
    },
    {
      "cell_type": "markdown",
      "source": [
        "vairable can h"
      ],
      "metadata": {
        "id": "SAahxxxMdFoQ"
      }
    },
    {
      "cell_type": "code",
      "source": [
        "a = \"life is beautiful\"\n",
        "print(a.capitalize())    #only the first letter will be capitalized\n",
        "print(a.upper())\n",
        "print(a.casefold())  # all will be lowercase\n",
        "print(a.count(\"i\"))\n",
        "print(a.center(50))  #alliagning string"
      ],
      "metadata": {
        "colab": {
          "base_uri": "https://localhost:8080/"
        },
        "id": "VDMqEmyjdvxZ",
        "outputId": "5b4b4ed4-c1a9-4af9-d26e-b141aa192c84"
      },
      "execution_count": null,
      "outputs": [
        {
          "output_type": "stream",
          "name": "stdout",
          "text": [
            "Life is beautiful\n",
            "LIFE IS BEAUTIFUL\n",
            "life is beautiful\n",
            "3\n",
            "                life is beautiful                 \n"
          ]
        }
      ]
    },
    {
      "cell_type": "markdown",
      "source": [
        "#Encording\n"
      ],
      "metadata": {
        "id": "yyEzvASaettv"
      }
    },
    {
      "cell_type": "code",
      "source": [
        "e =a.encode() # b meaning byte format\n",
        "print(e)"
      ],
      "metadata": {
        "colab": {
          "base_uri": "https://localhost:8080/"
        },
        "id": "zuUsHTvse68T",
        "outputId": "b10d5c90-0319-4232-ab2a-1423c83da78c"
      },
      "execution_count": null,
      "outputs": [
        {
          "output_type": "stream",
          "name": "stdout",
          "text": [
            "b'life is beautiful'\n"
          ]
        }
      ]
    },
    {
      "cell_type": "code",
      "source": [
        "e1 = a.encode(\"utf-16\")  #endocing\n",
        "print(e1)\n",
        "e7 = e1.decode(\"utf-16\") #decoding\n",
        "print(e7)"
      ],
      "metadata": {
        "colab": {
          "base_uri": "https://localhost:8080/"
        },
        "id": "AV0y7W7YfABz",
        "outputId": "745d08b3-5e75-4848-f5c5-83460bc4d9a6"
      },
      "execution_count": null,
      "outputs": [
        {
          "output_type": "stream",
          "name": "stdout",
          "text": [
            "b'\\xff\\xfel\\x00i\\x00f\\x00e\\x00 \\x00i\\x00s\\x00 \\x00b\\x00e\\x00a\\x00u\\x00t\\x00i\\x00f\\x00u\\x00l\\x00'\n",
            "life is beautiful\n"
          ]
        }
      ]
    },
    {
      "cell_type": "code",
      "source": [],
      "metadata": {
        "id": "1WHR0qozTcmV"
      },
      "execution_count": null,
      "outputs": []
    },
    {
      "cell_type": "code",
      "source": [
        "e2 = a.encode(\"ascii\")\n",
        "print(e2)"
      ],
      "metadata": {
        "colab": {
          "base_uri": "https://localhost:8080/"
        },
        "id": "L_irB1L6fe3S",
        "outputId": "002cf59d-5931-41fa-95e8-355c40cb52b2"
      },
      "execution_count": null,
      "outputs": [
        {
          "output_type": "stream",
          "name": "stdout",
          "text": [
            "b'life is beautiful'\n"
          ]
        }
      ]
    },
    {
      "cell_type": "code",
      "source": [
        "a1 =\"Python £ is fun £\"\n",
        "e3 = a1.encode(\"ascii\",errors = \"replace\")\n",
        "print(e3)\n",
        "\n",
        "e4 = a1.encode(\"ascii\",errors = \"xmlcharrefreplace\")\n",
        "print(e4)"
      ],
      "metadata": {
        "colab": {
          "base_uri": "https://localhost:8080/"
        },
        "id": "Rtbkik0Lgpgy",
        "outputId": "d3b61b4f-d72c-4f67-c252-8893251688d9"
      },
      "execution_count": null,
      "outputs": [
        {
          "output_type": "stream",
          "name": "stdout",
          "text": [
            "b'Python ? is fun ?'\n",
            "b'Python &#163; is fun &#163;'\n"
          ]
        }
      ]
    },
    {
      "cell_type": "code",
      "source": [],
      "metadata": {
        "id": "zlzOUnu0g8pv"
      },
      "execution_count": null,
      "outputs": []
    },
    {
      "cell_type": "markdown",
      "source": [
        "#Ends with\n"
      ],
      "metadata": {
        "id": "Y_Jiazoeivlw"
      }
    },
    {
      "cell_type": "markdown",
      "source": [
        "The endswith() method is used to check whether a string ends with a specified suffix (a substring, character, or tuple of suffixes). It returns True if the string ends with the given suffix and False otherwise."
      ],
      "metadata": {
        "id": "Vd_iYJ3dhm2h"
      }
    },
    {
      "cell_type": "code",
      "source": [
        "a = \"pic.jpg\"\n",
        "print(a.endswith('.jpg'))\n",
        "type(a)"
      ],
      "metadata": {
        "colab": {
          "base_uri": "https://localhost:8080/"
        },
        "id": "1I3_Jt4siyPR",
        "outputId": "5ba98668-9f3a-4e38-bd72-016c59288d8f"
      },
      "execution_count": null,
      "outputs": [
        {
          "output_type": "stream",
          "name": "stdout",
          "text": [
            "True\n"
          ]
        },
        {
          "output_type": "execute_result",
          "data": {
            "text/plain": [
              "str"
            ]
          },
          "metadata": {},
          "execution_count": 1
        }
      ]
    },
    {
      "cell_type": "code",
      "source": [
        "text = \"document.pdf\"\n",
        "\n",
        "# Check if it ends with .pdf or .txt\n",
        "print(text.endswith((\".pdf\", \".txt\")))  # True\n",
        "print(text.endswith((\".docx\", \".txt\"))) # False"
      ],
      "metadata": {
        "colab": {
          "base_uri": "https://localhost:8080/"
        },
        "id": "s4XLred3hRIN",
        "outputId": "b0e98a7e-c614-4928-ffe6-6ce9063e4d54"
      },
      "execution_count": null,
      "outputs": [
        {
          "output_type": "stream",
          "name": "stdout",
          "text": [
            "True\n",
            "False\n"
          ]
        }
      ]
    },
    {
      "cell_type": "code",
      "source": [],
      "metadata": {
        "id": "5JB9nXGojawN"
      },
      "execution_count": null,
      "outputs": []
    },
    {
      "cell_type": "markdown",
      "source": [
        "#expand tabs"
      ],
      "metadata": {
        "id": "DfiyuctZjc7q"
      }
    },
    {
      "cell_type": "markdown",
      "source": [
        "The expandtabs() method in Python replaces tab characters (\\t) in a string with spaces, using a specified tab size."
      ],
      "metadata": {
        "id": "dVbi9p3oh-IX"
      }
    },
    {
      "cell_type": "code",
      "source": [
        "a =\"Sr.no\\tName\\tRoll_no\"    # \\t is use as tabs. it is default is 4\n",
        "print(a)\n",
        "print(a.expandtabs(20))  # more readable DATA,and more aligning"
      ],
      "metadata": {
        "colab": {
          "base_uri": "https://localhost:8080/"
        },
        "id": "mRyeybKljg6T",
        "outputId": "64f19525-ea80-4359-aa5e-d36125c94897"
      },
      "execution_count": null,
      "outputs": [
        {
          "output_type": "stream",
          "name": "stdout",
          "text": [
            "Sr.no\tName\tRoll_no\n",
            "Sr.no               Name                Roll_no\n"
          ]
        }
      ]
    },
    {
      "cell_type": "code",
      "source": [],
      "metadata": {
        "id": "rUn-sDdci925"
      },
      "execution_count": null,
      "outputs": []
    },
    {
      "cell_type": "markdown",
      "source": [
        "#find\n"
      ],
      "metadata": {
        "id": "nw5WuEIRlCpe"
      }
    },
    {
      "cell_type": "code",
      "source": [
        "a = \"Hello how are you\"  # where sub string in the main string\n",
        "x = a.find(\"are\")\n",
        "print(x)"
      ],
      "metadata": {
        "colab": {
          "base_uri": "https://localhost:8080/"
        },
        "id": "ylrfS3F0lJUb",
        "outputId": "29a4bdd6-d400-4b22-a9e1-a4e5f718eb80"
      },
      "execution_count": null,
      "outputs": [
        {
          "output_type": "stream",
          "name": "stdout",
          "text": [
            "10\n"
          ]
        }
      ]
    },
    {
      "cell_type": "markdown",
      "source": [
        "#Format  #place holders"
      ],
      "metadata": {
        "id": "YWnKbIyOllQX"
      }
    },
    {
      "cell_type": "code",
      "source": [
        "a = \"Hi\"\n",
        "b = \"2nd\"\n",
        "x = \"\"\"{0} How have you all been?\n",
        "welcome to {1} class\"\"\".format(a,b)\n",
        "print(x)\n",
        "\n"
      ],
      "metadata": {
        "colab": {
          "base_uri": "https://localhost:8080/"
        },
        "id": "JAUSE7cklL9i",
        "outputId": "e79a2327-af59-4051-ee11-e0d2f58da3c0"
      },
      "execution_count": null,
      "outputs": [
        {
          "output_type": "stream",
          "name": "stdout",
          "text": [
            "Hi How have you all been?\n",
            "welcome to 2nd class\n"
          ]
        }
      ]
    },
    {
      "cell_type": "markdown",
      "source": [],
      "metadata": {
        "id": "xR37Qzq6tBFE"
      }
    },
    {
      "cell_type": "code",
      "source": [
        "z=\"\"\"{}How have you all been?\n",
        "welcome to {} class\"\"\".format(\"Hi\",\"2nd\")  # i\n",
        "print(z)"
      ],
      "metadata": {
        "colab": {
          "base_uri": "https://localhost:8080/"
        },
        "id": "_KcTjV5MojPW",
        "outputId": "8739a35f-c05d-47fd-e018-d5401b13e55a"
      },
      "execution_count": null,
      "outputs": [
        {
          "output_type": "stream",
          "name": "stdout",
          "text": [
            "HiHow have you all been?   \n",
            "welcome to 2nd class\n"
          ]
        }
      ]
    },
    {
      "cell_type": "code",
      "source": [
        "y=\"\"\"{} How have you all been?\n",
        "welcome to {} class\"\"\".format(a,b)  # Position will automatically asign as 0 and 1\n",
        "print(y)"
      ],
      "metadata": {
        "colab": {
          "base_uri": "https://localhost:8080/"
        },
        "id": "wy60LIu9mT9K",
        "outputId": "0a1afde9-837d-4f96-c2f5-8f06be6dd79c"
      },
      "execution_count": null,
      "outputs": [
        {
          "output_type": "stream",
          "name": "stdout",
          "text": [
            "Hi How have you all been?   \n",
            "welcome to Hi class\n"
          ]
        }
      ]
    },
    {
      "cell_type": "markdown",
      "source": [
        "#List\n",
        "List is mutable,can contain duplicate values,modify,replace,and ordered"
      ],
      "metadata": {
        "id": "1WphvwhUtMXW"
      }
    },
    {
      "cell_type": "code",
      "source": [
        "x = ['Pen',258,True,999,\"Alex\"] # list can have different types of date types.\n",
        "print(x)\n",
        "print(x[1])         #index\n",
        "print(type(x[1]))   #type\n",
        "print(len(x))       #len\n",
        "print(x[-2:])        #Last elements\n",
        "x = [2] * 6\n",
        "print(x)            #[2] is a list with a single element (2).   * 6 repeats the list 6 times. The result is [2, 2, 2, 2, 2, 2].\n"
      ],
      "metadata": {
        "colab": {
          "base_uri": "https://localhost:8080/"
        },
        "id": "vw2ZZVLWtU00",
        "outputId": "29261b39-0688-4b57-9e06-c0e242f7ec1b"
      },
      "execution_count": null,
      "outputs": [
        {
          "output_type": "stream",
          "name": "stdout",
          "text": [
            "['Pen', 258, True, 999, 'Alex']\n",
            "258\n",
            "<class 'int'>\n",
            "5\n",
            "[999, 'Alex']\n",
            "[2, 2, 2, 2, 2, 2]\n"
          ]
        }
      ]
    },
    {
      "cell_type": "code",
      "source": [],
      "metadata": {
        "id": "0_PTYv1awJ64"
      },
      "execution_count": null,
      "outputs": []
    },
    {
      "cell_type": "markdown",
      "source": [
        "#add/append"
      ],
      "metadata": {
        "id": "tcyLK4n8ymPj"
      }
    },
    {
      "cell_type": "code",
      "source": [
        "x = [2,4,6,8]\n",
        "x.append(10)\n",
        "print(x)\n",
        "\n",
        "\n",
        "x.insert(4,12)    #add 12 in 4th Position. ( 4-is the position, 12 is the value)\n",
        "print(x)\n",
        "\n",
        "\n",
        "x.extend([14,16,18]) # Add end of the list\n",
        "print(x)\n",
        "\n",
        "\n",
        "x=[2,4,6,8,12,11,14,16,18,11]\n",
        "x[5]=35   # add 35 to 5th Position\n",
        "print(x)\n"
      ],
      "metadata": {
        "colab": {
          "base_uri": "https://localhost:8080/"
        },
        "id": "1a4TTjwxysYV",
        "outputId": "df75c524-a0a3-44ce-c135-51ffeed539f5"
      },
      "execution_count": null,
      "outputs": [
        {
          "output_type": "stream",
          "name": "stdout",
          "text": [
            "[2, 4, 6, 8, 10]\n",
            "[2, 4, 6, 8, 12, 10]\n",
            "[2, 4, 6, 8, 12, 10, 14, 16, 18]\n",
            "[2, 4, 6, 8, 12, 35, 14, 16, 18, 11]\n",
            "[2, 4, 6, 8, 12, 14, 16, 18, 37]\n",
            "37\n",
            "[2, 4, 6, 8, 12, 14, 16, 18]\n",
            "[2, 4, 8, 12, 14, 16, 18]\n",
            "[]\n"
          ]
        }
      ]
    },
    {
      "cell_type": "markdown",
      "source": [
        "# Remove\n"
      ],
      "metadata": {
        "id": "7FdIikpfCcjT"
      }
    },
    {
      "cell_type": "code",
      "source": [
        "\n",
        "x=[2,4,6,8,12,11,14,16,18,37]\n",
        "x.remove(11) #remove the 1st occurence\n",
        "print(x)\n",
        "\n",
        "\n",
        "y=x.pop()#remove the last element  # Removes and returns the last element (37)\n",
        "print(y)\n",
        "print(x)\n",
        "\n",
        "\n",
        "del x[2] #delet 6 in the 2nd position\n",
        "print(x)\n",
        "\n",
        "del x[2:5]\n",
        "print(x)\n",
        "\n",
        "x.clear() #remove all elements\n",
        "print(x)"
      ],
      "metadata": {
        "colab": {
          "base_uri": "https://localhost:8080/"
        },
        "id": "HS_KK1n1Cbfr",
        "outputId": "d35ee244-32a7-40cb-d84a-8cc0b5040b64"
      },
      "execution_count": null,
      "outputs": [
        {
          "output_type": "stream",
          "name": "stdout",
          "text": [
            "[2, 4, 6, 8, 12, 14, 16, 18, 37]\n",
            "37\n",
            "[2, 4, 6, 8, 12, 14, 16, 18]\n",
            "[2, 4, 8, 12, 14, 16, 18]\n",
            "[2, 4, 16, 18]\n",
            "[]\n"
          ]
        }
      ]
    },
    {
      "cell_type": "markdown",
      "source": [
        "#Loop"
      ],
      "metadata": {
        "id": "k4-SNFxr05s5"
      }
    },
    {
      "cell_type": "markdown",
      "source": [],
      "metadata": {
        "id": "hT4hGjn-09HP"
      }
    },
    {
      "cell_type": "code",
      "source": [
        "Hasitha x = [\"Pen\",25,True] #will print individul list items\n",
        " for i in x:\n",
        "  print(i)\n",
        "\n",
        "\n",
        "\n",
        "\n",
        "y= [[\"Pen\",25,True],[1,45,'Hi']] #nested list\n",
        "print(y)\n",
        "print(len(y))"
      ],
      "metadata": {
        "colab": {
          "base_uri": "https://localhost:8080/"
        },
        "id": "lCzRKE3P0-Yz",
        "outputId": "9c318e18-1d9c-482d-c131-07c0549436f8"
      },
      "execution_count": null,
      "outputs": [
        {
          "output_type": "stream",
          "name": "stdout",
          "text": [
            "Pen\n",
            "25\n",
            "True\n",
            "[['Pen', 25, True], [1, 45, 'Hi']]\n",
            "2\n"
          ]
        }
      ]
    },
    {
      "cell_type": "code",
      "source": [
        "b=[1,2,3]\n",
        "print(b)\n"
      ],
      "metadata": {
        "id": "3GDzBAGmyzhx",
        "colab": {
          "base_uri": "https://localhost:8080/"
        },
        "outputId": "7ff4b874-512b-4dd5-db13-cd32ac8bda49"
      },
      "execution_count": null,
      "outputs": [
        {
          "output_type": "stream",
          "name": "stdout",
          "text": [
            "[1, 2, 3]\n"
          ]
        }
      ]
    },
    {
      "cell_type": "code",
      "source": [
        "print?\n"
      ],
      "metadata": {
        "id": "TWSeKDV6yJbD"
      },
      "execution_count": null,
      "outputs": []
    },
    {
      "cell_type": "code",
      "source": [],
      "metadata": {
        "id": "L6oFsN-XyffS"
      },
      "execution_count": null,
      "outputs": []
    },
    {
      "cell_type": "markdown",
      "source": [
        "# WEEK 3\n"
      ],
      "metadata": {
        "id": "rfsuA5TLAfAr"
      }
    },
    {
      "cell_type": "markdown",
      "source": [
        "# TUPLES\n",
        "\n"
      ],
      "metadata": {
        "id": "CYxwyWgQDPbj"
      }
    },
    {
      "cell_type": "markdown",
      "source": [
        "Tuple is unchangable , non-mutable,ordered\n",
        "\n",
        "\n",
        "> Add blockquote\n",
        "\n"
      ],
      "metadata": {
        "id": "uHbIUZWEFBcr"
      }
    },
    {
      "cell_type": "code",
      "source": [
        "x = (\"Pen\",5,\"Pencil\")\n",
        "print(x)\n",
        "x=(\"Pen\",5,24.6,\"Female\")\n",
        "print(x)\n",
        "print(x[1])\n",
        "print(x[-1])\n",
        "print(x[0:3])\n",
        "print(x[-3:-1])\n",
        "print(x[-2:])"
      ],
      "metadata": {
        "colab": {
          "base_uri": "https://localhost:8080/"
        },
        "id": "s-gBhE_SDLQU",
        "outputId": "098857a6-e1ab-4064-ee02-52c30d32eef0"
      },
      "execution_count": null,
      "outputs": [
        {
          "output_type": "stream",
          "name": "stdout",
          "text": [
            "('Pen', 5, 'Pencil')\n",
            "('Pen', 5, 24.6, 'Female')\n",
            "5\n",
            "Female\n",
            "('Pen', 5, 24.6)\n",
            "(5, 24.6)\n",
            "(24.6, 'Female')\n"
          ]
        }
      ]
    },
    {
      "cell_type": "markdown",
      "source": [
        "# Update"
      ],
      "metadata": {
        "id": "8lyx4XkZHECu"
      }
    },
    {
      "cell_type": "code",
      "source": [
        "x=(\"Pen\",5,24.6,\"Female\")\n",
        "y = list(x)\n",
        "print(y)\n",
        "print(x)   # answer is different check brackets\n",
        "\n",
        "\n",
        "# if we need to a tuple it should converted to a list and again converted back to tuple\n",
        "\n",
        "y[1]=\"Male\"\n",
        "x = tuple(y)\n",
        "print(x)\n",
        "\n",
        "\n"
      ],
      "metadata": {
        "colab": {
          "base_uri": "https://localhost:8080/"
        },
        "id": "Bx4-NLqBFHAE",
        "outputId": "ba37f125-be78-4a6b-f082-033863f67959"
      },
      "execution_count": null,
      "outputs": [
        {
          "output_type": "stream",
          "name": "stdout",
          "text": [
            "['Pen', 5, 24.6, 'Female']\n",
            "('Pen', 5, 24.6, 'Female')\n",
            "('Pen', 'Male', 24.6, 'Female')\n"
          ]
        }
      ]
    },
    {
      "cell_type": "markdown",
      "source": [],
      "metadata": {
        "id": "j8I61CxdIaWz"
      }
    },
    {
      "cell_type": "markdown",
      "source": [
        "What is contructer?? ( Empty class created at the back-end)\n",
        "\n",
        "Why we need tuples--for example column header ( it should not be changed)\n",
        "\n"
      ],
      "metadata": {
        "id": "o8yihlSWHbgK"
      }
    },
    {
      "cell_type": "code",
      "source": [
        "y = ['Pen',1,24.6,True,\"Female\"]\n",
        "y.append(\"Paris\")\n",
        "y.insert(3,777)\n",
        "y.remove(24.6)\n",
        "y.pop(1)\n",
        "x=tuple(y)\n",
        "print(x)\n"
      ],
      "metadata": {
        "colab": {
          "base_uri": "https://localhost:8080/"
        },
        "id": "fSKwzRF1MR5y",
        "outputId": "5d65a26d-0039-449d-9287-1093f7b66ba1"
      },
      "execution_count": null,
      "outputs": [
        {
          "output_type": "stream",
          "name": "stdout",
          "text": [
            "('Pen', 777, True, 'Female', 'Paris')\n"
          ]
        }
      ]
    },
    {
      "cell_type": "markdown",
      "source": [
        "# Packing elements"
      ],
      "metadata": {
        "id": "m7vCrIP-Ns3q"
      }
    },
    {
      "cell_type": "code",
      "source": [
        "x = (\"Paris\",\"Rome\",\"Italy\")\n",
        "(a,b,c) = x\n",
        "print(a,b,c) # value without separation, like more consolidated data\n",
        "print(x) #\n",
        "print(b)\n",
        "print(c)\n",
        "\n",
        "\n",
        "\n",
        "x = (\"Paris\",\"Rome\",\"Italy\",\"Florence\",\"Venice\")\n",
        "(a,b,*c) = x  # * mark is making answer as a list, it meaning related, This is called Packing\n",
        "print(x)\n",
        "print(c)"
      ],
      "metadata": {
        "colab": {
          "base_uri": "https://localhost:8080/"
        },
        "id": "hozuB3sOLp_q",
        "outputId": "3440a840-edf9-4fd2-fc41-a1e3ea2a6852"
      },
      "execution_count": null,
      "outputs": [
        {
          "output_type": "stream",
          "name": "stdout",
          "text": [
            "Paris Rome Italy\n",
            "('Paris', 'Rome', 'Italy')\n",
            "Rome\n",
            "Italy\n",
            "('Paris', 'Rome', 'Italy', 'Florence', 'Venice')\n",
            "['Italy', 'Florence', 'Venice']\n"
          ]
        }
      ]
    },
    {
      "cell_type": "markdown",
      "source": [
        "#Unpacking\n"
      ],
      "metadata": {
        "id": "ZImVbBAbQlKq"
      }
    },
    {
      "cell_type": "markdown",
      "source": [
        "If the packing has been done, those packed data only we can unpacked."
      ],
      "metadata": {
        "id": "xB2YQsUyQ10a"
      }
    },
    {
      "cell_type": "code",
      "source": [
        " x = (\"Paris\",\"Rome\",(\"Italy\",\"Florence\",\"Venice\"))\n",
        " (a,b,(c,d,e)) = x\n",
        " print(a,b,c,d,e)\n",
        " print(a,b,c)\n",
        " print(d)\n",
        "\n",
        "\n"
      ],
      "metadata": {
        "colab": {
          "base_uri": "https://localhost:8080/"
        },
        "id": "ZWivceRmQkbc",
        "outputId": "6411b42e-c752-40b7-81fb-92db0859c478"
      },
      "execution_count": null,
      "outputs": [
        {
          "output_type": "stream",
          "name": "stdout",
          "text": [
            "Paris Rome Italy Florence Venice\n",
            "Paris Rome Italy\n",
            "Florence\n"
          ]
        }
      ]
    },
    {
      "cell_type": "markdown",
      "source": [
        "#Looping ( Conti....)"
      ],
      "metadata": {
        "id": "OCBwZ6KGVT_j"
      }
    },
    {
      "cell_type": "markdown",
      "source": [
        "Dangling Pointers ????\n",
        "(A dangling pointer is a pointer that still references a memory location even after that memory has been freed or deallocated. This can lead to undefined behavior, crashes, or security vulnerabilities.)"
      ],
      "metadata": {
        "id": "Hcls_n2MV62x"
      }
    },
    {
      "cell_type": "code",
      "source": [
        "x = (\"Paris\",1,True,\"Rome\",\"Italy\",\"Florence\",\"Venice\")\n",
        "for i in x:\n",
        "  print(i)\n",
        "\n",
        "for i in range(len(x)):\n",
        "  print(x[i])\n",
        "\n",
        "i = 3\n",
        "while i < len(x):\n",
        "  print(x[i])\n",
        "  i += 1\n",
        "\n"
      ],
      "metadata": {
        "colab": {
          "base_uri": "https://localhost:8080/"
        },
        "id": "d8fHZ0P6OIo5",
        "outputId": "a0cf09d7-c68a-4ef3-8994-cf8ce02aeb0b"
      },
      "execution_count": null,
      "outputs": [
        {
          "output_type": "stream",
          "name": "stdout",
          "text": [
            "Paris\n",
            "1\n",
            "True\n",
            "Rome\n",
            "Italy\n",
            "Florence\n",
            "Venice\n",
            "Paris\n",
            "1\n",
            "True\n",
            "Rome\n",
            "Italy\n",
            "Florence\n",
            "Venice\n",
            "Rome\n",
            "Italy\n",
            "Florence\n",
            "Venice\n"
          ]
        }
      ]
    },
    {
      "cell_type": "markdown",
      "source": [
        "#SETs"
      ],
      "metadata": {
        "id": "zbDKolrLX_9Y"
      }
    },
    {
      "cell_type": "markdown",
      "source": [
        "\n",
        "Sets will not allowed duplicate values\n",
        "\n"
      ],
      "metadata": {
        "id": "XEn5tEX-X_7j"
      }
    },
    {
      "cell_type": "code",
      "source": [
        "x = {1,3,\"Pen\",True,False,3}\n",
        "print(x)   # duplicates are not showing\n",
        "\n",
        "x = {1,3,\"Pen\",True,False,3,1,3,\"Pen\",True,False,}\n",
        "print(x)\n",
        "\n",
        "print(x)\n",
        "print(len(x))\n",
        "print(type(x))\n",
        "\n",
        "\n",
        "\n",
        "\n",
        "\n",
        "x.add(\"Pencil\")   # added 1 element\n",
        "\n",
        "y = [\"Eraser\", 25.1] #added a list\n",
        "x.update(y)\n",
        "print(x)\n",
        "\n",
        "\n",
        "\n",
        "y =(\"shapner\",45.68) # added tuple\n",
        "x.update(y)\n",
        "print(x)\n",
        "\n",
        "\n",
        "x.update([777,999])\n",
        "print(x)\n",
        "\n",
        "\n",
        "#Order is always changing\n",
        "\n",
        "\n",
        "x.remove(\"Pen\")\n",
        "print(x)\n",
        "\n",
        "\n",
        "\n",
        "x.discard(1)\n",
        "print(x)\n",
        "\n",
        "\n",
        "x.pop()\n",
        "print(x)\n",
        "\n",
        "\n",
        "x.clear()\n",
        "print(x)\n",
        "\n",
        "\n",
        "x = frozenset({1,3,\"Pen\",True,False,3})"
      ],
      "metadata": {
        "colab": {
          "base_uri": "https://localhost:8080/"
        },
        "id": "sXYfnG7BZqvp",
        "outputId": "0afa94bd-de9a-4769-b19a-c05eb5e4ba47"
      },
      "execution_count": null,
      "outputs": [
        {
          "output_type": "stream",
          "name": "stdout",
          "text": [
            "{False, 1, 'Pen', 3}\n",
            "{False, 1, 'Pen', 3}\n",
            "{False, 1, 'Pen', 3}\n",
            "4\n",
            "<class 'set'>\n",
            "{False, 1, 3, 'Eraser', 25.1, 'Pen', 'Pencil'}\n",
            "{False, 1, 3, 'shapner', 45.68, 'Eraser', 25.1, 'Pen', 'Pencil'}\n",
            "{False, 1, 3, 999, 'shapner', 777, 45.68, 'Eraser', 25.1, 'Pen', 'Pencil'}\n",
            "{False, 1, 3, 999, 'shapner', 777, 45.68, 'Eraser', 25.1, 'Pencil'}\n",
            "{False, 3, 999, 'shapner', 777, 45.68, 'Eraser', 25.1, 'Pencil'}\n",
            "{3, 999, 'shapner', 777, 45.68, 'Eraser', 25.1, 'Pencil'}\n",
            "set()\n"
          ]
        }
      ]
    },
    {
      "cell_type": "code",
      "source": [],
      "metadata": {
        "id": "xm9seJvGWKPz"
      },
      "execution_count": null,
      "outputs": []
    },
    {
      "cell_type": "markdown",
      "source": [
        "#WEEK 4 (28-March-2025)"
      ],
      "metadata": {
        "id": "pGY1qMNdVNA5"
      }
    },
    {
      "cell_type": "markdown",
      "source": [
        "#Union\n"
      ],
      "metadata": {
        "id": "wqNrKAdIg0NG"
      }
    },
    {
      "cell_type": "code",
      "source": [
        "x = {1,2,\"Pen,\",False}\n",
        "y = {\"Rome\",\"Paris\"}\n",
        "z = {\"Italy\",50}\n",
        "print(x.union(y))\n",
        "print(x.union(y,z))\n",
        "print(x|y|z)          # Mathematical operations, \"|\" meaning union in python"
      ],
      "metadata": {
        "colab": {
          "base_uri": "https://localhost:8080/"
        },
        "id": "-1u265Tjfv4U",
        "outputId": "9fb0110c-c6b8-46ec-8860-fdfbe8e5bcf3"
      },
      "execution_count": null,
      "outputs": [
        {
          "output_type": "stream",
          "name": "stdout",
          "text": [
            "{False, 1, 2, 'Pen,', 'Paris', 'Rome'}\n",
            "{False, 1, 2, 'Pen,', 50, 'Paris', 'Italy', 'Rome'}\n",
            "{False, 1, 2, 'Pen,', 50, 'Paris', 'Italy', 'Rome'}\n"
          ]
        }
      ]
    },
    {
      "cell_type": "code",
      "source": [],
      "metadata": {
        "id": "CaYRAYQ_f-7j"
      },
      "execution_count": null,
      "outputs": []
    },
    {
      "cell_type": "markdown",
      "source": [
        "#Intersections\n"
      ],
      "metadata": {
        "id": "xjSSn0U2g4s5"
      }
    },
    {
      "cell_type": "code",
      "source": [
        "x = {1,2,2,\"Pen,\",False}\n",
        "y = {\"Rome\",\"Paris\",2,999,False}\n",
        "z = {\"Italy\",2,50,999}\n",
        "print(x.intersection(y))\n",
        "print(y.intersection(z))\n",
        "print(x & y & z)  # \"&\" meaning intersect in python"
      ],
      "metadata": {
        "colab": {
          "base_uri": "https://localhost:8080/"
        },
        "id": "JTJrk8Gyg9N3",
        "outputId": "e865a192-7866-49ac-ba7c-9f8abdbd23c3"
      },
      "execution_count": null,
      "outputs": [
        {
          "output_type": "stream",
          "name": "stdout",
          "text": [
            "{False, 2}\n",
            "{2, 999}\n",
            "{2}\n"
          ]
        }
      ]
    },
    {
      "cell_type": "markdown",
      "source": [
        "#Difference"
      ],
      "metadata": {
        "id": "PDi0mTybiyYA"
      }
    },
    {
      "cell_type": "markdown",
      "source": [
        "Returns a new set containing elements present in the first set but not in the second.\n",
        "\n",
        "Does NOT modify the original set."
      ],
      "metadata": {
        "id": "wUgPUf4o1FBM"
      }
    },
    {
      "cell_type": "code",
      "source": [
        "x = {1,2,\"Pen,\",False}\n",
        "y = {\"Rome\",\"Paris\",2,999,False}\n",
        "print(x.difference(y))#element present in the first set not the second set.\n",
        "print(y.difference(x))\n",
        "print(x-y)\n",
        "\n",
        "\n",
        "\"\"\"The number 999 is only in y, not in x. The difference operation (x - y) only removes elements from x that are also in y. It does not consider elements that are exclusive to y.\"\"\"\n"
      ],
      "metadata": {
        "id": "F8EGsXzdhzyo",
        "colab": {
          "base_uri": "https://localhost:8080/",
          "height": 87
        },
        "outputId": "7c2ef9dd-9c23-475d-9aae-420921a0cea3"
      },
      "execution_count": null,
      "outputs": [
        {
          "output_type": "stream",
          "name": "stdout",
          "text": [
            "{1, 'Pen,'}\n",
            "{'Rome', 'Paris', 999}\n",
            "{1, 'Pen,'}\n"
          ]
        },
        {
          "output_type": "execute_result",
          "data": {
            "text/plain": [
              "'The number 999 is only in y, not in x. The difference operation (x - y) only removes elements from x that are also in y. It does not consider elements that are exclusive to y.'"
            ],
            "application/vnd.google.colaboratory.intrinsic+json": {
              "type": "string"
            }
          },
          "metadata": {},
          "execution_count": 1
        }
      ]
    },
    {
      "cell_type": "markdown",
      "source": [
        "# Difference Update"
      ],
      "metadata": {
        "id": "cPIoVEs-0_P9"
      }
    },
    {
      "cell_type": "markdown",
      "source": [
        "Removes elements from the original set (x) that are also present in the second set (y).\n",
        "\n",
        "Modifies the original set in-place."
      ],
      "metadata": {
        "id": "b7sEbm4Z1Q4l"
      }
    },
    {
      "cell_type": "code",
      "source": [
        "x = {1, 2, 3, 4}\n",
        "y = {3, 4, 5, 6}\n",
        "\n",
        "x.difference_update(y)  # Equivalent to x = x - y\n",
        "print(x)  # Output: {1, 2} (Original set `x` is modified)\n",
        "print(y)  # y is not updated,but only x"
      ],
      "metadata": {
        "colab": {
          "base_uri": "https://localhost:8080/"
        },
        "id": "OxStZ9Hp1YRs",
        "outputId": "d95ff52a-d9a1-4697-c1fb-3b45b607d2cb"
      },
      "execution_count": null,
      "outputs": [
        {
          "output_type": "stream",
          "name": "stdout",
          "text": [
            "{1, 2}\n",
            "{3, 4, 5, 6}\n"
          ]
        }
      ]
    },
    {
      "cell_type": "markdown",
      "source": [
        "#Symetric Differences\n",
        "\n",
        "Besides the repeates other values will be shown"
      ],
      "metadata": {
        "id": "YwgswCnUjugA"
      }
    },
    {
      "cell_type": "code",
      "source": [
        "x = {1,2,\"Pen,\",False}\n",
        "y = {\"Rome\",\"Paris\",2,999,False}\n",
        "print(x.symmetric_difference(y)) # here shows both unique value in both x and y\n",
        "print(x ^ y)   # \"^\" use for symmetric difference in python."
      ],
      "metadata": {
        "colab": {
          "base_uri": "https://localhost:8080/"
        },
        "id": "o3V7TkEWi_O4",
        "outputId": "d6a4f261-54b9-4a95-f161-f6765184fc48"
      },
      "execution_count": null,
      "outputs": [
        {
          "output_type": "stream",
          "name": "stdout",
          "text": [
            "{1, 'Pen,', 999, 'Paris', 'Rome'}\n",
            "{1, 'Pen,', 999, 'Paris', 'Rome'}\n"
          ]
        }
      ]
    },
    {
      "cell_type": "code",
      "source": [],
      "metadata": {
        "id": "ys5ak_rzkM3x"
      },
      "execution_count": null,
      "outputs": []
    },
    {
      "cell_type": "markdown",
      "source": [
        "#Symetric Differernce Update"
      ],
      "metadata": {
        "id": "gmKSw2Oyk8F7"
      }
    },
    {
      "cell_type": "code",
      "source": [
        "#DIfference update and Symetric difference are two types\n",
        "#This will update the data in Back-end\n",
        "\n",
        "x = {1,2,\"Pen,\",False}\n",
        "y = {\"Rome\",\"Paris\",2,999,False}\n",
        "print(x.symmetric_difference_update(y))\n",
        "print(x)     # Why the first output is None?. because symmetric_difference_update() modifies the set x in place and does not return a new set."
      ],
      "metadata": {
        "colab": {
          "base_uri": "https://localhost:8080/"
        },
        "id": "gAzX9jg3k_5C",
        "outputId": "f0b6191f-21d9-4883-8e47-02a84e68184f"
      },
      "execution_count": null,
      "outputs": [
        {
          "output_type": "stream",
          "name": "stdout",
          "text": [
            "None\n",
            "{1, 'Pen,', 999, 'Paris', 'Rome'}\n"
          ]
        }
      ]
    },
    {
      "cell_type": "markdown",
      "source": [
        "\"\"\"Method Returns New Set?\tModifies Original?\tRemoves Common Elements? IncludesExclusive Elements?\"\"\"\n",
        "\n",
        "\n",
        "difference()\t                ✅ Yes \t   ❌ No\t      ✅ Yes\t          ❌ No\n",
        "\n",
        "difference_update()      \t❌ No\t     ✅ Yes\t    ✅ Yes\t          ❌ No\n",
        "\n",
        "symmetric_difference()    ✅ Yes\t     ❌ No\t      ✅ Yes\t          ✅ Yes\n",
        "\n",
        "symmetric_difference_update()\t❌ No\t✅ Yes\t✅ Yes\t✅ Yes\n"
      ],
      "metadata": {
        "id": "9TA4bxQq3gAt"
      }
    },
    {
      "cell_type": "markdown",
      "source": [
        "#Dictionary"
      ],
      "metadata": {
        "id": "xury8xO5m-dZ"
      }
    },
    {
      "cell_type": "code",
      "source": [
        "#Dictionaries\n",
        "#ACIDS meaning\n",
        "#Relateional database and Key-value database\n",
        "\n",
        "\n",
        "capitals = {\"Country\":\"Italy\",\"Capital\":\"Rome\",\"Famous\":\"Milan\"}\n",
        "print(capitals)\n",
        "print(capitals[\"Country\"])\n",
        "print(capitals.get(\"Famous\"))\n",
        "print(capitals.keys()) # Keys , column headers ( To call perticular value)\n",
        "print(capitals.values()) #Will show only values\n",
        "print(capitals.items())\n",
        "\n"
      ],
      "metadata": {
        "colab": {
          "base_uri": "https://localhost:8080/"
        },
        "id": "awdHuJG_lV4H",
        "outputId": "fc1c2b21-20ee-416b-9877-d39ceb64243a"
      },
      "execution_count": null,
      "outputs": [
        {
          "output_type": "stream",
          "name": "stdout",
          "text": [
            "{'Country': 'Italy', 'Capital': 'Rome', 'Famous': 'Milan'}\n",
            "Italy\n",
            "Milan\n",
            "dict_keys(['Country', 'Capital', 'Famous'])\n",
            "dict_values(['Italy', 'Rome', 'Milan'])\n",
            "dict_items([('Country', 'Italy'), ('Capital', 'Rome'), ('Famous', 'Milan')])\n"
          ]
        }
      ]
    },
    {
      "cell_type": "code",
      "source": [
        "i = [\"produc_id\",\"prod_name\",\"prod_price\",\"prod_qty\"]#incase if i do not know the values when creating the dictionary.\n",
        "I = dict.fromkeys(i)\n",
        "print(I)#by defaul value has been taken to none"
      ],
      "metadata": {
        "colab": {
          "base_uri": "https://localhost:8080/"
        },
        "id": "Cv9eengby0C4",
        "outputId": "eabb3c5d-b5b0-40bb-ddf5-7041317d2d06"
      },
      "execution_count": null,
      "outputs": [
        {
          "output_type": "stream",
          "name": "stdout",
          "text": [
            "{'produc_id': {}, 'prod_name': {}, 'prod_price': {}, 'prod_qty': {}}\n"
          ]
        }
      ]
    },
    {
      "cell_type": "code",
      "source": [
        "i = [\"produc_id\",\"prod_name\",\"prod_price\",\"prod_qty\"]\n",
        "I = dict.fromkeys(i,{})\n",
        "print(I)"
      ],
      "metadata": {
        "colab": {
          "base_uri": "https://localhost:8080/"
        },
        "id": "zRA5IhWox7lL",
        "outputId": "e305f5af-4850-41e0-ceb8-a11ceb3e0ab7"
      },
      "execution_count": null,
      "outputs": [
        {
          "output_type": "stream",
          "name": "stdout",
          "text": [
            "{'produc_id': {}, 'prod_name': {}, 'prod_price': {}, 'prod_qty': {}}\n"
          ]
        }
      ]
    },
    {
      "cell_type": "markdown",
      "source": [],
      "metadata": {
        "id": "DcoL5min0s_b"
      }
    },
    {
      "cell_type": "code",
      "source": [
        "stud = {\"roll no\":1,\"Name\":\"ABC\",\"Marks\":89, \"Subject\":{\"Math\",\"Physics\"}} #dictionaty in dictionary\n",
        "print(stud)\n",
        "#print(type(stud))\n",
        "\n",
        "stud = dict(rollno=1,Name=\"xyz\",Marks=90,Subject={\"Math\",\"Physics\"})#no space can write here, this is a constructor.and = sould be used insted of semi-colon\n",
        "print(stud)\n",
        "\n",
        "print(stud.get(\"rollno\"))\n",
        "stud.update({\"Results\":\"Pass\"})#adding new keys/elements or new columns\n",
        "stud[\"Percentage\"]= 96 #adding new keys/elements or new columns\n",
        "print(stud)\n",
        "\n",
        "\n",
        "print(stud.pop(\"Results\"))#we are using pop since the is no ordered data or indexing in dictionaries\n",
        "print(stud.popitem())\n",
        "\n",
        "\n",
        "#if i need to delete column or key value or element\n",
        "del stud [\"Marks\"]\n",
        "print(stud)\n",
        "\n",
        "\n",
        "#copy\n",
        "stud1=stud.copy()\n",
        "print(stud1)\n",
        "\n",
        "\n",
        "\n",
        "\n",
        "\n"
      ],
      "metadata": {
        "colab": {
          "base_uri": "https://localhost:8080/"
        },
        "id": "8dTuCeLr0EN7",
        "outputId": "288bf8ba-e194-4cc1-9d89-2ee7d2d7b792"
      },
      "execution_count": null,
      "outputs": [
        {
          "output_type": "stream",
          "name": "stdout",
          "text": [
            "{'roll no': 1, 'Name': 'ABC', 'Marks': 89, 'Subject': {'Physics', 'Math'}}\n",
            "{'rollno': 1, 'Name': 'xyz', 'Marks': 90, 'Subject': {'Physics', 'Math'}}\n",
            "1\n",
            "{'rollno': 1, 'Name': 'xyz', 'Marks': 90, 'Subject': {'Physics', 'Math'}, 'Results': 'Pass', 'Percentage': 96}\n",
            "Pass\n",
            "('Percentage', 96)\n",
            "{'rollno': 1, 'Name': 'xyz', 'Subject': {'Physics', 'Math'}}\n",
            "{'rollno': 1, 'Name': 'xyz', 'Subject': {'Physics', 'Math'}}\n"
          ]
        }
      ]
    },
    {
      "cell_type": "markdown",
      "source": [
        "#Loop"
      ],
      "metadata": {
        "id": "cTByNEdT38h-"
      }
    },
    {
      "cell_type": "code",
      "source": [
        "#Looping\n",
        "stud = {\"roll no\":1,\"Name\":\"ABC\",\"Marks\":89, \"Subject\":{\"Math\",\"Physics\"}}\n",
        "for i in stud:\n",
        "  print(i,stud[i])\n",
        "\n"
      ],
      "metadata": {
        "colab": {
          "base_uri": "https://localhost:8080/"
        },
        "id": "XRWda-DB0nX9",
        "outputId": "f1392d3e-82ee-4354-a2d9-014c7420e929"
      },
      "execution_count": null,
      "outputs": [
        {
          "output_type": "stream",
          "name": "stdout",
          "text": [
            "roll no 1\n",
            "Name ABC\n",
            "Marks 89\n",
            "Subject {'Physics', 'Math'}\n"
          ]
        }
      ]
    },
    {
      "cell_type": "code",
      "source": [
        "stud=[{\"roll no\":1,\"Name\":\"ABC\",\"Marks\":89, \"Subject\":{\"Math\",\"Physics\"}},\n",
        "      {\"roll no\":2,\"Name\":\"SAMAN\",\"Marks\":79, \"Subject\":{\"Math\",\"Physics\"}},\n",
        "      {\"roll no\":3,\"Name\":\"KUMARA\",\"Marks\":69, \"Subject\":{\"Math\",\"Physics\"}},\n",
        "      {\"roll no\":4,\"Name\":\"AYMAN\",\"Marks\":54, \"Subject\":{\"Math\",\"Physics\"}}\n",
        "\n",
        "]\n",
        "\n",
        "for s in stud:\n",
        "  for key,value in s.items():\n",
        "    print(key,value)"
      ],
      "metadata": {
        "colab": {
          "base_uri": "https://localhost:8080/"
        },
        "id": "7ZtOqJ-I4mUS",
        "outputId": "f2b6d620-b1ba-4ea0-d13f-0f3491ef8035"
      },
      "execution_count": null,
      "outputs": [
        {
          "output_type": "stream",
          "name": "stdout",
          "text": [
            "roll no 1\n",
            "Name ABC\n",
            "Marks 89\n",
            "Subject {'Physics', 'Math'}\n",
            "roll no 2\n",
            "Name SAMAN\n",
            "Marks 79\n",
            "Subject {'Physics', 'Math'}\n",
            "roll no 3\n",
            "Name KUMARA\n",
            "Marks 69\n",
            "Subject {'Physics', 'Math'}\n",
            "roll no 4\n",
            "Name AYMAN\n",
            "Marks 54\n",
            "Subject {'Physics', 'Math'}\n"
          ]
        }
      ]
    },
    {
      "cell_type": "code",
      "source": [],
      "metadata": {
        "id": "CAyTrKAV5OnW"
      },
      "execution_count": null,
      "outputs": []
    },
    {
      "cell_type": "markdown",
      "source": [
        "# WEEK 5"
      ],
      "metadata": {
        "id": "ymJWdpxjMTTg"
      }
    },
    {
      "cell_type": "code",
      "source": [
        "class Myclass:\n",
        "  x = 5\n",
        "\n",
        "p1 = Myclass() # Object\n",
        "print(p1.x)\n"
      ],
      "metadata": {
        "colab": {
          "base_uri": "https://localhost:8080/"
        },
        "id": "0vC-1aL7MVn3",
        "outputId": "fbc5b0c0-0905-4ce7-b5c8-5b7e94e5a3ee"
      },
      "execution_count": null,
      "outputs": [
        {
          "output_type": "stream",
          "name": "stdout",
          "text": [
            "5\n"
          ]
        }
      ]
    },
    {
      "cell_type": "code",
      "source": [
        "class Person: # can re use\n",
        "  def __init__(self,name,age):\n",
        "    self.name = name\n",
        "    self.age = age\n",
        "\n",
        "p1 = Person(\"John\",36)#object , because whenever we call the class \"Person\". then p1 consider as object\n",
        "p2 = Person(\"Emmanuel\",45)\n",
        "print(p1.name)\n",
        "print(p1.age)\n",
        "print(p2.name)\n",
        "print(p2.age)\n",
        "print(p1) # giving error, because we have not define string variable. so we can create _str_ as below\n",
        "\n",
        "   def __str__(self):\n",
        "    return f\"{self.name},{self.age}\"\n",
        "\n",
        "p1 = Person(\"John\",36)\n",
        "print(p1)\n",
        "\n"
      ],
      "metadata": {
        "colab": {
          "base_uri": "https://localhost:8080/",
          "height": 106
        },
        "id": "tL0wgVB2UTC_",
        "outputId": "56ab72fd-4cc1-43bb-9986-8555dc8c5bfc"
      },
      "execution_count": null,
      "outputs": [
        {
          "output_type": "error",
          "ename": "IndentationError",
          "evalue": "unexpected indent (<ipython-input-31-046d01c1dd16>, line 14)",
          "traceback": [
            "\u001b[0;36m  File \u001b[0;32m\"<ipython-input-31-046d01c1dd16>\"\u001b[0;36m, line \u001b[0;32m14\u001b[0m\n\u001b[0;31m    def __str__(self):\u001b[0m\n\u001b[0m    ^\u001b[0m\n\u001b[0;31mIndentationError\u001b[0m\u001b[0;31m:\u001b[0m unexpected indent\n"
          ]
        }
      ]
    },
    {
      "cell_type": "code",
      "source": [
        "class Person:  # Can be reused\n",
        "    def __init__(self, name, age):  # Constructor\n",
        "        self.name = name\n",
        "        self.age = age\n",
        "\n",
        "    def __str__(self):  # Corrected method\n",
        "        return f\"{self.name}, {self.age}\"\n",
        "\n",
        "p1 = Person(\"John\", 36)  # Creating an object\n",
        "print(p1)  # Output: John, 36"
      ],
      "metadata": {
        "colab": {
          "base_uri": "https://localhost:8080/"
        },
        "id": "_3R7m9-RYm9z",
        "outputId": "cb0da1a1-1a3b-493f-ca25-283101999758"
      },
      "execution_count": null,
      "outputs": [
        {
          "output_type": "stream",
          "name": "stdout",
          "text": [
            "John, 36\n"
          ]
        }
      ]
    },
    {
      "cell_type": "code",
      "source": [
        "class Person: # can re use\n",
        "  def __init__(self,name,age):\n",
        "    self.name = name\n",
        "    self.age = age\n",
        "\n",
        "  def a(self):\n",
        "    print(\"Hello:\" + self.name,self.age)\n",
        "\n",
        "p1 = Person(\"John\",36)\n",
        "p1.a()\n"
      ],
      "metadata": {
        "colab": {
          "base_uri": "https://localhost:8080/"
        },
        "id": "nm777vV2YBYq",
        "outputId": "6c96c994-1eb1-4a68-c723-8dbfb548d465"
      },
      "execution_count": null,
      "outputs": [
        {
          "output_type": "stream",
          "name": "stdout",
          "text": [
            "Hello:John 36\n"
          ]
        }
      ]
    },
    {
      "cell_type": "markdown",
      "source": [
        "#Library management system\n"
      ],
      "metadata": {
        "id": "Fz-zqb3AcSGn"
      }
    },
    {
      "cell_type": "markdown",
      "source": [
        "Fist question of exam"
      ],
      "metadata": {
        "id": "_4sRVQyKjng3"
      }
    },
    {
      "cell_type": "code",
      "source": [
        "class library:\n",
        "  def __init__(self):\n",
        "    self.books ={} # since we are not sure how many object we creating\n",
        "\n",
        "  def add_books(self,book_id,book_name,author,quantity):\n",
        "    self.books[book_id]={\"book_name\":book_name,\"author\":author,\"quantity\":quantity}\n",
        "\n",
        "  def display(self):\n",
        "    for book_id, details in self.books.items(): #details is a dictionary withing dictionary\n",
        "      print(f\"ID:{book_id},Title:{details['book_name']},Author:{details['author']},Quantity:{details['quantity']}\")\n",
        "\n",
        "x = library()\n",
        "x.add_books(101,\"Harry Potter\",\"JK Rowling\",10)\n",
        "x.add_books(102,\"Lord of the Rings\",\"JRR Tolkein\",5)\n",
        "x.add_books(101,\"The Hobbit\",\"Jrr Tolkeing\",3) # fist item will be replaced\n",
        "x.add_books(104,\"Lord of the Rings\",\"JRR Tolkein\",15)\n",
        "x.display()\n"
      ],
      "metadata": {
        "colab": {
          "base_uri": "https://localhost:8080/"
        },
        "id": "G8tE_fFkUSe3",
        "outputId": "e52dfd70-c995-4af4-eca5-165dd8d451d3"
      },
      "execution_count": null,
      "outputs": [
        {
          "output_type": "stream",
          "name": "stdout",
          "text": [
            "ID:101,Title:The Hobbit,Author:Jrr Tolkeing,Quantity:3\n",
            "ID:102,Title:Lord of the Rings,Author:JRR Tolkein,Quantity:5\n",
            "ID:104,Title:Lord of the Rings,Author:JRR Tolkein,Quantity:15\n"
          ]
        }
      ]
    },
    {
      "cell_type": "markdown",
      "source": [
        "Second question"
      ],
      "metadata": {
        "id": "nazjHeqFjrxe"
      }
    },
    {
      "cell_type": "code",
      "source": [
        "class library:\n",
        "  def __init__(self):\n",
        "    self.books ={} # since we are not sure how many object we creating\n",
        "\n",
        "  def add_books(self,book_id,book_name,author,quantity):\n",
        "    if book_id in self.books:\n",
        "      print(\"Book id already exisist\")\n",
        "      return\n",
        "    if quantity<=0:\n",
        "      print(\"Quantity must be positive\")\n",
        "      return\n",
        "\n",
        "    self.books[book_id]={\"book_name\":book_name,\"author\":author,\"quantity\":quantity}\n",
        "\n",
        "  def display(self):\n",
        "    for book_id, details in self.books.items(): #details is a dictionary withing dictionary\n",
        "      print(f\"ID:{book_id},Title:{details['book_name']},Author:{details['author']},Quantity:{details['quantity']}\")\n",
        "\n",
        "x = library()\n",
        "x.add_books(101,\"Harry Potter\",\"JK Rowling\",10)\n",
        "x.add_books(102,\"Lord of the Rings\",\"JRR Tolkein\",5)\n",
        "x.add_books(101,\"The Hobbit\",\"Jrr Tolkeing\",3) # fist item will be replaced\n",
        "x.add_books(104,\"Lord of the Rings\",\"JRR Tolkein\",15)\n",
        "x.display()\n"
      ],
      "metadata": {
        "colab": {
          "base_uri": "https://localhost:8080/"
        },
        "id": "ojuHc_K6nURK",
        "outputId": "213bb238-3cba-4f9f-8af5-0272a7b4db40"
      },
      "execution_count": null,
      "outputs": [
        {
          "output_type": "stream",
          "name": "stdout",
          "text": [
            "Book id already exisist\n",
            "ID:101,Title:Harry Potter,Author:JK Rowling,Quantity:10\n",
            "ID:102,Title:Lord of the Rings,Author:JRR Tolkein,Quantity:5\n",
            "ID:104,Title:Lord of the Rings,Author:JRR Tolkein,Quantity:15\n"
          ]
        }
      ]
    },
    {
      "cell_type": "markdown",
      "source": [
        "Update book"
      ],
      "metadata": {
        "id": "nm2Wh2Hdov_g"
      }
    },
    {
      "cell_type": "code",
      "source": [
        "class library:\n",
        "  def __init__(self):\n",
        "    self.books ={} # since we are not sure how many object we creating\n",
        "\n",
        "  def add_books(self,book_id,book_name,author,quantity):\n",
        "    if book_id in self.books:\n",
        "      print(\"Book id already exisist\")\n",
        "      return\n",
        "    if quantity<=0:\n",
        "      print(\"Quantity must be positive\")\n",
        "      return\n",
        "\n",
        "    self.books[book_id]={\"book_name\":book_name,\"author\":author,\"quantity\":quantity}\n",
        "\n",
        "\n",
        "  def update(self,book_id,book_name=None,author=None,quantity=None):\n",
        "    if book_id not in self.books:\n",
        "      print(\"Book id does not exist\")\n",
        "      return\n",
        "\n",
        "\n",
        "    if book_name is not None:\n",
        "      self.books[book_id][\"book_name\"] = book_name\n",
        "\n",
        "    if author is not None:\n",
        "      self.books[book_id]['author'] = author\n",
        "\n",
        "    if quantity is not None:\n",
        "      self.books[book_id][\"quantity\"] = quantity\n",
        "\n",
        "    print(\"Book details have been updated\")\n",
        "\n",
        "  def display(self):\n",
        "    for book_id, details in self.books.items(): #details is a dictionary withing dictionary\n",
        "      print(f\"ID:{book_id},Title:{details['book_name']},Author:{details['author']},Quantity:{details['quantity']}\")\n",
        "\n",
        "x = library()\n",
        "x.add_books(101,\"Harry Potter\",\"JK Rowling\",10)\n",
        "x.add_books(102,\"Lord of the Rings\",\"JRR Tolkein\",5)\n",
        "x.add_books(103,\"The Hobbit\",\"Jrr Tolkeing\",3) # fist item will be replaced\n",
        "x.add_books(104,\"Lord of the Rings\",\"JRR Tolkein\",1)\n",
        "x.update(101, quantity = 100)\n",
        "x.display()\n"
      ],
      "metadata": {
        "colab": {
          "base_uri": "https://localhost:8080/"
        },
        "id": "on6d1mxnoxpa",
        "outputId": "7aecdaf1-02d0-464b-8645-243baa65529b"
      },
      "execution_count": null,
      "outputs": [
        {
          "output_type": "stream",
          "name": "stdout",
          "text": [
            "Book details have been updated\n",
            "ID:101,Title:Harry Potter,Author:JK Rowling,Quantity:100\n",
            "ID:102,Title:Lord of the Rings,Author:JRR Tolkein,Quantity:5\n",
            "ID:103,Title:The Hobbit,Author:Jrr Tolkeing,Quantity:3\n",
            "ID:104,Title:Lord of the Rings,Author:JRR Tolkein,Quantity:1\n"
          ]
        }
      ]
    },
    {
      "cell_type": "code",
      "source": [],
      "metadata": {
        "id": "zIcBF6r4juol"
      },
      "execution_count": null,
      "outputs": []
    },
    {
      "cell_type": "code",
      "source": [],
      "metadata": {
        "id": "BOkFl_lYjrBd"
      },
      "execution_count": null,
      "outputs": []
    }
  ]
}